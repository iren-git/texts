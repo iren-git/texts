{
 "cells": [
  {
   "cell_type": "markdown",
   "metadata": {},
   "source": [
    "# Задание 2"
   ]
  },
  {
   "cell_type": "markdown",
   "metadata": {},
   "source": [
    "В датасете имеем файл с самими письмами, файл с расшифровкой PersonID, файл с Id получателей писем."
   ]
  },
  {
   "cell_type": "code",
   "execution_count": 59,
   "metadata": {
    "collapsed": false
   },
   "outputs": [],
   "source": [
    "%matplotlib inline\n",
    "\n",
    "import warnings\n",
    "import numpy as np\n",
    "import pandas as pd\n",
    "import matplotlib.pyplot as plt\n",
    "import re\n",
    "from sklearn.cross_validation import train_test_split\n",
    "from sklearn.datasets import make_classification\n",
    "from functools import reduce\n",
    "from copy import deepcopy\n",
    "from sklearn.linear_model import LogisticRegression\n",
    "from sklearn.tree import DecisionTreeRegressor, DecisionTreeClassifier\n",
    "from sklearn.cross_validation import cross_val_score\n",
    "from sklearn.base import ClassifierMixin, BaseEstimator\n",
    "from sklearn.ensemble import GradientBoostingClassifier\n",
    "from sklearn.metrics import accuracy_score\n",
    "\n",
    "from sklearn.feature_extraction.text import CountVectorizer, TfidfVectorizer\n",
    "from stemming.porter2 import stem\n",
    "from sklearn.decomposition import TruncatedSVD\n",
    "from sklearn.cluster import KMeans\n",
    "from sklearn.metrics import silhouette_score\n",
    "from sklearn.cluster.hierarchical import AgglomerativeClustering\n",
    "from sklearn.manifold import TSNE"
   ]
  },
  {
   "cell_type": "code",
   "execution_count": 2,
   "metadata": {
    "collapsed": false
   },
   "outputs": [
    {
     "name": "stdout",
     "output_type": "stream",
     "text": [
      "7945\n"
     ]
    },
    {
     "data": {
      "text/html": [
       "<div>\n",
       "<table border=\"1\" class=\"dataframe\">\n",
       "  <thead>\n",
       "    <tr style=\"text-align: right;\">\n",
       "      <th></th>\n",
       "      <th>Id</th>\n",
       "      <th>DocNumber</th>\n",
       "      <th>MetadataSubject</th>\n",
       "      <th>MetadataTo</th>\n",
       "      <th>MetadataFrom</th>\n",
       "      <th>SenderPersonId</th>\n",
       "      <th>MetadataDateSent</th>\n",
       "      <th>MetadataDateReleased</th>\n",
       "      <th>MetadataPdfLink</th>\n",
       "      <th>MetadataCaseNumber</th>\n",
       "      <th>...</th>\n",
       "      <th>ExtractedTo</th>\n",
       "      <th>ExtractedFrom</th>\n",
       "      <th>ExtractedCc</th>\n",
       "      <th>ExtractedDateSent</th>\n",
       "      <th>ExtractedCaseNumber</th>\n",
       "      <th>ExtractedDocNumber</th>\n",
       "      <th>ExtractedDateReleased</th>\n",
       "      <th>ExtractedReleaseInPartOrFull</th>\n",
       "      <th>ExtractedBodyText</th>\n",
       "      <th>RawText</th>\n",
       "    </tr>\n",
       "  </thead>\n",
       "  <tbody>\n",
       "    <tr>\n",
       "      <th>0</th>\n",
       "      <td>1</td>\n",
       "      <td>C05739545</td>\n",
       "      <td>WOW</td>\n",
       "      <td>H</td>\n",
       "      <td>Sullivan, Jacob J</td>\n",
       "      <td>87.0</td>\n",
       "      <td>2012-09-12T04:00:00+00:00</td>\n",
       "      <td>2015-05-22T04:00:00+00:00</td>\n",
       "      <td>DOCUMENTS/HRC_Email_1_296/HRCH2/DOC_0C05739545...</td>\n",
       "      <td>F-2015-04841</td>\n",
       "      <td>...</td>\n",
       "      <td>NaN</td>\n",
       "      <td>Sullivan, Jacob J &lt;Sullivan11@state.gov&gt;</td>\n",
       "      <td>NaN</td>\n",
       "      <td>Wednesday, September 12, 2012 10:16 AM</td>\n",
       "      <td>F-2015-04841</td>\n",
       "      <td>C05739545</td>\n",
       "      <td>05/13/2015</td>\n",
       "      <td>RELEASE IN FULL</td>\n",
       "      <td>NaN</td>\n",
       "      <td>UNCLASSIFIED\\nU.S. Department of State\\nCase N...</td>\n",
       "    </tr>\n",
       "    <tr>\n",
       "      <th>1</th>\n",
       "      <td>2</td>\n",
       "      <td>C05739546</td>\n",
       "      <td>H: LATEST: HOW SYRIA IS AIDING QADDAFI AND MOR...</td>\n",
       "      <td>H</td>\n",
       "      <td>NaN</td>\n",
       "      <td>NaN</td>\n",
       "      <td>2011-03-03T05:00:00+00:00</td>\n",
       "      <td>2015-05-22T04:00:00+00:00</td>\n",
       "      <td>DOCUMENTS/HRC_Email_1_296/HRCH1/DOC_0C05739546...</td>\n",
       "      <td>F-2015-04841</td>\n",
       "      <td>...</td>\n",
       "      <td>NaN</td>\n",
       "      <td>NaN</td>\n",
       "      <td>NaN</td>\n",
       "      <td>NaN</td>\n",
       "      <td>F-2015-04841</td>\n",
       "      <td>C05739546</td>\n",
       "      <td>05/13/2015</td>\n",
       "      <td>RELEASE IN PART</td>\n",
       "      <td>B6\\nThursday, March 3, 2011 9:45 PM\\nH: Latest...</td>\n",
       "      <td>UNCLASSIFIED\\nU.S. Department of State\\nCase N...</td>\n",
       "    </tr>\n",
       "    <tr>\n",
       "      <th>2</th>\n",
       "      <td>3</td>\n",
       "      <td>C05739547</td>\n",
       "      <td>CHRIS STEVENS</td>\n",
       "      <td>;H</td>\n",
       "      <td>Mills, Cheryl D</td>\n",
       "      <td>32.0</td>\n",
       "      <td>2012-09-12T04:00:00+00:00</td>\n",
       "      <td>2015-05-22T04:00:00+00:00</td>\n",
       "      <td>DOCUMENTS/HRC_Email_1_296/HRCH2/DOC_0C05739547...</td>\n",
       "      <td>F-2015-04841</td>\n",
       "      <td>...</td>\n",
       "      <td>B6</td>\n",
       "      <td>Mills, Cheryl D &lt;MillsCD@state.gov&gt;</td>\n",
       "      <td>Abedin, Huma</td>\n",
       "      <td>Wednesday, September 12, 2012 11:52 AM</td>\n",
       "      <td>F-2015-04841</td>\n",
       "      <td>C05739547</td>\n",
       "      <td>05/14/2015</td>\n",
       "      <td>RELEASE IN PART</td>\n",
       "      <td>Thx</td>\n",
       "      <td>UNCLASSIFIED\\nU.S. Department of State\\nCase N...</td>\n",
       "    </tr>\n",
       "    <tr>\n",
       "      <th>3</th>\n",
       "      <td>4</td>\n",
       "      <td>C05739550</td>\n",
       "      <td>CAIRO CONDEMNATION - FINAL</td>\n",
       "      <td>H</td>\n",
       "      <td>Mills, Cheryl D</td>\n",
       "      <td>32.0</td>\n",
       "      <td>2012-09-12T04:00:00+00:00</td>\n",
       "      <td>2015-05-22T04:00:00+00:00</td>\n",
       "      <td>DOCUMENTS/HRC_Email_1_296/HRCH2/DOC_0C05739550...</td>\n",
       "      <td>F-2015-04841</td>\n",
       "      <td>...</td>\n",
       "      <td>NaN</td>\n",
       "      <td>Mills, Cheryl D &lt;MillsCD@state.gov&gt;</td>\n",
       "      <td>Mitchell, Andrew B</td>\n",
       "      <td>Wednesday, September 12,2012 12:44 PM</td>\n",
       "      <td>F-2015-04841</td>\n",
       "      <td>C05739550</td>\n",
       "      <td>05/13/2015</td>\n",
       "      <td>RELEASE IN PART</td>\n",
       "      <td>NaN</td>\n",
       "      <td>UNCLASSIFIED\\nU.S. Department of State\\nCase N...</td>\n",
       "    </tr>\n",
       "    <tr>\n",
       "      <th>4</th>\n",
       "      <td>5</td>\n",
       "      <td>C05739554</td>\n",
       "      <td>H: LATEST: HOW SYRIA IS AIDING QADDAFI AND MOR...</td>\n",
       "      <td>Abedin, Huma</td>\n",
       "      <td>H</td>\n",
       "      <td>80.0</td>\n",
       "      <td>2011-03-11T05:00:00+00:00</td>\n",
       "      <td>2015-05-22T04:00:00+00:00</td>\n",
       "      <td>DOCUMENTS/HRC_Email_1_296/HRCH1/DOC_0C05739554...</td>\n",
       "      <td>F-2015-04841</td>\n",
       "      <td>...</td>\n",
       "      <td>NaN</td>\n",
       "      <td>NaN</td>\n",
       "      <td>NaN</td>\n",
       "      <td>NaN</td>\n",
       "      <td>F-2015-04841</td>\n",
       "      <td>C05739554</td>\n",
       "      <td>05/13/2015</td>\n",
       "      <td>RELEASE IN PART</td>\n",
       "      <td>H &lt;hrod17@clintonemail.com&gt;\\nFriday, March 11,...</td>\n",
       "      <td>B6\\nUNCLASSIFIED\\nU.S. Department of State\\nCa...</td>\n",
       "    </tr>\n",
       "  </tbody>\n",
       "</table>\n",
       "<p>5 rows × 22 columns</p>\n",
       "</div>"
      ],
      "text/plain": [
       "   Id  DocNumber                                    MetadataSubject  \\\n",
       "0   1  C05739545                                                WOW   \n",
       "1   2  C05739546  H: LATEST: HOW SYRIA IS AIDING QADDAFI AND MOR...   \n",
       "2   3  C05739547                                      CHRIS STEVENS   \n",
       "3   4  C05739550                         CAIRO CONDEMNATION - FINAL   \n",
       "4   5  C05739554  H: LATEST: HOW SYRIA IS AIDING QADDAFI AND MOR...   \n",
       "\n",
       "     MetadataTo       MetadataFrom  SenderPersonId           MetadataDateSent  \\\n",
       "0             H  Sullivan, Jacob J            87.0  2012-09-12T04:00:00+00:00   \n",
       "1             H                NaN             NaN  2011-03-03T05:00:00+00:00   \n",
       "2            ;H    Mills, Cheryl D            32.0  2012-09-12T04:00:00+00:00   \n",
       "3             H    Mills, Cheryl D            32.0  2012-09-12T04:00:00+00:00   \n",
       "4  Abedin, Huma                  H            80.0  2011-03-11T05:00:00+00:00   \n",
       "\n",
       "        MetadataDateReleased  \\\n",
       "0  2015-05-22T04:00:00+00:00   \n",
       "1  2015-05-22T04:00:00+00:00   \n",
       "2  2015-05-22T04:00:00+00:00   \n",
       "3  2015-05-22T04:00:00+00:00   \n",
       "4  2015-05-22T04:00:00+00:00   \n",
       "\n",
       "                                     MetadataPdfLink MetadataCaseNumber  \\\n",
       "0  DOCUMENTS/HRC_Email_1_296/HRCH2/DOC_0C05739545...       F-2015-04841   \n",
       "1  DOCUMENTS/HRC_Email_1_296/HRCH1/DOC_0C05739546...       F-2015-04841   \n",
       "2  DOCUMENTS/HRC_Email_1_296/HRCH2/DOC_0C05739547...       F-2015-04841   \n",
       "3  DOCUMENTS/HRC_Email_1_296/HRCH2/DOC_0C05739550...       F-2015-04841   \n",
       "4  DOCUMENTS/HRC_Email_1_296/HRCH1/DOC_0C05739554...       F-2015-04841   \n",
       "\n",
       "                         ...                         ExtractedTo  \\\n",
       "0                        ...                                 NaN   \n",
       "1                        ...                                 NaN   \n",
       "2                        ...                                  B6   \n",
       "3                        ...                                 NaN   \n",
       "4                        ...                                 NaN   \n",
       "\n",
       "                              ExtractedFrom         ExtractedCc  \\\n",
       "0  Sullivan, Jacob J <Sullivan11@state.gov>                 NaN   \n",
       "1                                       NaN                 NaN   \n",
       "2       Mills, Cheryl D <MillsCD@state.gov>        Abedin, Huma   \n",
       "3       Mills, Cheryl D <MillsCD@state.gov>  Mitchell, Andrew B   \n",
       "4                                       NaN                 NaN   \n",
       "\n",
       "                        ExtractedDateSent ExtractedCaseNumber  \\\n",
       "0  Wednesday, September 12, 2012 10:16 AM        F-2015-04841   \n",
       "1                                     NaN        F-2015-04841   \n",
       "2  Wednesday, September 12, 2012 11:52 AM        F-2015-04841   \n",
       "3   Wednesday, September 12,2012 12:44 PM        F-2015-04841   \n",
       "4                                     NaN        F-2015-04841   \n",
       "\n",
       "  ExtractedDocNumber ExtractedDateReleased ExtractedReleaseInPartOrFull  \\\n",
       "0          C05739545            05/13/2015              RELEASE IN FULL   \n",
       "1          C05739546            05/13/2015              RELEASE IN PART   \n",
       "2          C05739547            05/14/2015              RELEASE IN PART   \n",
       "3          C05739550            05/13/2015              RELEASE IN PART   \n",
       "4          C05739554            05/13/2015              RELEASE IN PART   \n",
       "\n",
       "                                   ExtractedBodyText  \\\n",
       "0                                                NaN   \n",
       "1  B6\\nThursday, March 3, 2011 9:45 PM\\nH: Latest...   \n",
       "2                                                Thx   \n",
       "3                                                NaN   \n",
       "4  H <hrod17@clintonemail.com>\\nFriday, March 11,...   \n",
       "\n",
       "                                             RawText  \n",
       "0  UNCLASSIFIED\\nU.S. Department of State\\nCase N...  \n",
       "1  UNCLASSIFIED\\nU.S. Department of State\\nCase N...  \n",
       "2  UNCLASSIFIED\\nU.S. Department of State\\nCase N...  \n",
       "3  UNCLASSIFIED\\nU.S. Department of State\\nCase N...  \n",
       "4  B6\\nUNCLASSIFIED\\nU.S. Department of State\\nCa...  \n",
       "\n",
       "[5 rows x 22 columns]"
      ]
     },
     "execution_count": 2,
     "metadata": {},
     "output_type": "execute_result"
    }
   ],
   "source": [
    "data = pd.read_csv('Emails.csv')\n",
    "print len(data)\n",
    "data.head()"
   ]
  },
  {
   "cell_type": "markdown",
   "metadata": {},
   "source": [
    "Посмотрим на неотображенные в head() колонки"
   ]
  },
  {
   "cell_type": "code",
   "execution_count": 3,
   "metadata": {
    "collapsed": false
   },
   "outputs": [
    {
     "name": "stdout",
     "output_type": "stream",
     "text": [
      "Index([u'Id', u'DocNumber', u'MetadataSubject', u'MetadataTo', u'MetadataFrom',\n",
      "       u'SenderPersonId', u'MetadataDateSent', u'MetadataDateReleased',\n",
      "       u'MetadataPdfLink', u'MetadataCaseNumber', u'MetadataDocumentClass',\n",
      "       u'ExtractedSubject', u'ExtractedTo', u'ExtractedFrom', u'ExtractedCc',\n",
      "       u'ExtractedDateSent', u'ExtractedCaseNumber', u'ExtractedDocNumber',\n",
      "       u'ExtractedDateReleased', u'ExtractedReleaseInPartOrFull',\n",
      "       u'ExtractedBodyText', u'RawText'],\n",
      "      dtype='object')\n",
      "0                                              FW: Wow\n",
      "1                                                  NaN\n",
      "2                                    Re: Chris Stevens\n",
      "3                      FVV: Cairo Condemnation - Final\n",
      "4                                                  NaN\n",
      "5    Meet The Right Wing Extremist Behind Anti-Musl...\n",
      "6    FW: Anti-Muslim film director in hiding, follo...\n",
      "7                                                  NaN\n",
      "8                             FVV: Secretary's remarks\n",
      "9                                        more on Libya\n",
      "Name: ExtractedSubject, dtype: object\n",
      "0    HRC_Email_296\n",
      "1    HRC_Email_296\n",
      "2    HRC_Email_296\n",
      "3    HRC_Email_296\n",
      "4    HRC_Email_296\n",
      "5    HRC_Email_296\n",
      "6    HRC_Email_296\n",
      "7    HRC_Email_296\n",
      "8    HRC_Email_296\n",
      "9    HRC_Email_296\n",
      "Name: MetadataDocumentClass, dtype: object\n",
      "5000    Clinton_Email_August_Release\n",
      "5001    Clinton_Email_August_Release\n",
      "5002    Clinton_Email_August_Release\n",
      "5003    Clinton_Email_August_Release\n",
      "5004    Clinton_Email_August_Release\n",
      "5005    Clinton_Email_August_Release\n",
      "5006    Clinton_Email_August_Release\n",
      "5007    Clinton_Email_August_Release\n",
      "5008    Clinton_Email_August_Release\n",
      "5009    Clinton_Email_August_Release\n",
      "Name: MetadataDocumentClass, dtype: object\n"
     ]
    }
   ],
   "source": [
    "print data.columns\n",
    "print data.ExtractedSubject[:10]\n",
    "print data.MetadataDocumentClass[:10]\n",
    "print data.MetadataDocumentClass[5000:5010]"
   ]
  },
  {
   "cell_type": "markdown",
   "metadata": {},
   "source": [
    "ExtractedSubject и MetadataDocumentClass могут пригодиться. Оставим только некоторые колонки."
   ]
  },
  {
   "cell_type": "code",
   "execution_count": 4,
   "metadata": {
    "collapsed": false
   },
   "outputs": [
    {
     "data": {
      "text/html": [
       "<div>\n",
       "<table border=\"1\" class=\"dataframe\">\n",
       "  <thead>\n",
       "    <tr style=\"text-align: right;\">\n",
       "      <th></th>\n",
       "      <th>MetadataSubject</th>\n",
       "      <th>MetadataTo</th>\n",
       "      <th>MetadataFrom</th>\n",
       "      <th>MetadataDocumentClass</th>\n",
       "      <th>SenderPersonId</th>\n",
       "      <th>ExtractedSubject</th>\n",
       "      <th>ExtractedDateSent</th>\n",
       "      <th>ExtractedCaseNumber</th>\n",
       "      <th>ExtractedDocNumber</th>\n",
       "      <th>ExtractedBodyText</th>\n",
       "      <th>RawText</th>\n",
       "    </tr>\n",
       "  </thead>\n",
       "  <tbody>\n",
       "    <tr>\n",
       "      <th>0</th>\n",
       "      <td>WOW</td>\n",
       "      <td>H</td>\n",
       "      <td>Sullivan, Jacob J</td>\n",
       "      <td>HRC_Email_296</td>\n",
       "      <td>87.0</td>\n",
       "      <td>FW: Wow</td>\n",
       "      <td>Wednesday, September 12, 2012 10:16 AM</td>\n",
       "      <td>F-2015-04841</td>\n",
       "      <td>C05739545</td>\n",
       "      <td>NaN</td>\n",
       "      <td>UNCLASSIFIED\\nU.S. Department of State\\nCase N...</td>\n",
       "    </tr>\n",
       "    <tr>\n",
       "      <th>1</th>\n",
       "      <td>H: LATEST: HOW SYRIA IS AIDING QADDAFI AND MOR...</td>\n",
       "      <td>H</td>\n",
       "      <td>NaN</td>\n",
       "      <td>HRC_Email_296</td>\n",
       "      <td>NaN</td>\n",
       "      <td>NaN</td>\n",
       "      <td>NaN</td>\n",
       "      <td>F-2015-04841</td>\n",
       "      <td>C05739546</td>\n",
       "      <td>B6\\nThursday, March 3, 2011 9:45 PM\\nH: Latest...</td>\n",
       "      <td>UNCLASSIFIED\\nU.S. Department of State\\nCase N...</td>\n",
       "    </tr>\n",
       "    <tr>\n",
       "      <th>2</th>\n",
       "      <td>CHRIS STEVENS</td>\n",
       "      <td>;H</td>\n",
       "      <td>Mills, Cheryl D</td>\n",
       "      <td>HRC_Email_296</td>\n",
       "      <td>32.0</td>\n",
       "      <td>Re: Chris Stevens</td>\n",
       "      <td>Wednesday, September 12, 2012 11:52 AM</td>\n",
       "      <td>F-2015-04841</td>\n",
       "      <td>C05739547</td>\n",
       "      <td>Thx</td>\n",
       "      <td>UNCLASSIFIED\\nU.S. Department of State\\nCase N...</td>\n",
       "    </tr>\n",
       "    <tr>\n",
       "      <th>3</th>\n",
       "      <td>CAIRO CONDEMNATION - FINAL</td>\n",
       "      <td>H</td>\n",
       "      <td>Mills, Cheryl D</td>\n",
       "      <td>HRC_Email_296</td>\n",
       "      <td>32.0</td>\n",
       "      <td>FVV: Cairo Condemnation - Final</td>\n",
       "      <td>Wednesday, September 12,2012 12:44 PM</td>\n",
       "      <td>F-2015-04841</td>\n",
       "      <td>C05739550</td>\n",
       "      <td>NaN</td>\n",
       "      <td>UNCLASSIFIED\\nU.S. Department of State\\nCase N...</td>\n",
       "    </tr>\n",
       "    <tr>\n",
       "      <th>4</th>\n",
       "      <td>H: LATEST: HOW SYRIA IS AIDING QADDAFI AND MOR...</td>\n",
       "      <td>Abedin, Huma</td>\n",
       "      <td>H</td>\n",
       "      <td>HRC_Email_296</td>\n",
       "      <td>80.0</td>\n",
       "      <td>NaN</td>\n",
       "      <td>NaN</td>\n",
       "      <td>F-2015-04841</td>\n",
       "      <td>C05739554</td>\n",
       "      <td>H &lt;hrod17@clintonemail.com&gt;\\nFriday, March 11,...</td>\n",
       "      <td>B6\\nUNCLASSIFIED\\nU.S. Department of State\\nCa...</td>\n",
       "    </tr>\n",
       "  </tbody>\n",
       "</table>\n",
       "</div>"
      ],
      "text/plain": [
       "                                     MetadataSubject    MetadataTo  \\\n",
       "0                                                WOW             H   \n",
       "1  H: LATEST: HOW SYRIA IS AIDING QADDAFI AND MOR...             H   \n",
       "2                                      CHRIS STEVENS            ;H   \n",
       "3                         CAIRO CONDEMNATION - FINAL             H   \n",
       "4  H: LATEST: HOW SYRIA IS AIDING QADDAFI AND MOR...  Abedin, Huma   \n",
       "\n",
       "        MetadataFrom MetadataDocumentClass  SenderPersonId  \\\n",
       "0  Sullivan, Jacob J         HRC_Email_296            87.0   \n",
       "1                NaN         HRC_Email_296             NaN   \n",
       "2    Mills, Cheryl D         HRC_Email_296            32.0   \n",
       "3    Mills, Cheryl D         HRC_Email_296            32.0   \n",
       "4                  H         HRC_Email_296            80.0   \n",
       "\n",
       "                  ExtractedSubject                       ExtractedDateSent  \\\n",
       "0                          FW: Wow  Wednesday, September 12, 2012 10:16 AM   \n",
       "1                              NaN                                     NaN   \n",
       "2                Re: Chris Stevens  Wednesday, September 12, 2012 11:52 AM   \n",
       "3  FVV: Cairo Condemnation - Final   Wednesday, September 12,2012 12:44 PM   \n",
       "4                              NaN                                     NaN   \n",
       "\n",
       "  ExtractedCaseNumber ExtractedDocNumber  \\\n",
       "0        F-2015-04841          C05739545   \n",
       "1        F-2015-04841          C05739546   \n",
       "2        F-2015-04841          C05739547   \n",
       "3        F-2015-04841          C05739550   \n",
       "4        F-2015-04841          C05739554   \n",
       "\n",
       "                                   ExtractedBodyText  \\\n",
       "0                                                NaN   \n",
       "1  B6\\nThursday, March 3, 2011 9:45 PM\\nH: Latest...   \n",
       "2                                                Thx   \n",
       "3                                                NaN   \n",
       "4  H <hrod17@clintonemail.com>\\nFriday, March 11,...   \n",
       "\n",
       "                                             RawText  \n",
       "0  UNCLASSIFIED\\nU.S. Department of State\\nCase N...  \n",
       "1  UNCLASSIFIED\\nU.S. Department of State\\nCase N...  \n",
       "2  UNCLASSIFIED\\nU.S. Department of State\\nCase N...  \n",
       "3  UNCLASSIFIED\\nU.S. Department of State\\nCase N...  \n",
       "4  B6\\nUNCLASSIFIED\\nU.S. Department of State\\nCa...  "
      ]
     },
     "execution_count": 4,
     "metadata": {},
     "output_type": "execute_result"
    }
   ],
   "source": [
    "X_train = data.loc[:, ['MetadataSubject', 'MetadataTo', 'MetadataFrom', 'MetadataDocumentClass', 'SenderPersonId', 'ExtractedSubject', \n",
    "                       'ExtractedDateSent', 'ExtractedCaseNumber', 'ExtractedDocNumber', 'ExtractedBodyText', \n",
    "                       'RawText']]\n",
    "X_train.head()"
   ]
  },
  {
   "cell_type": "markdown",
   "metadata": {},
   "source": [
    "Вначале будем анализировать только текст письма (вся остальная содержательная информация у нас уже выделена). Посмотрим, хорошо ли выделен текст в датасете"
   ]
  },
  {
   "cell_type": "code",
   "execution_count": 5,
   "metadata": {
    "collapsed": false
   },
   "outputs": [
    {
     "name": "stdout",
     "output_type": "stream",
     "text": [
      "UNCLASSIFIED\n",
      "U.S. Department of State\n",
      "Case No. F-2015-04841\n",
      "Doc No. C05739545\n",
      "Date: 05/13/2015\n",
      "STATE DEPT. - PRODUCED TO HOUSE SELECT BENGHAZI COMM.\n",
      "SUBJECT TO AGREEMENT ON SENSITIVE INFORMATION & REDACTIONS. NO FOIA WAIVER.\n",
      "RELEASE IN FULL\n",
      "From: Sullivan, Jacob J <Sullivan11@state.gov>\n",
      "Sent: Wednesday, September 12, 2012 10:16 AM\n",
      "To:\n",
      "Subject: FW: Wow\n",
      "From: Brose, Christian (Armed Services) (mailto:Christian_Brose@armed-servic,essenate.govi\n",
      "Sent: Wednesday, September 12, 2012 10:09 AM\n",
      "To: Sullivan, Jacob J\n",
      "Subject: Wow\n",
      "What a wonderful, strong and moving statement by your boss. please tell her how much Sen. McCain appreciated it. Me\n",
      "too\n",
      "UNCLASSIFIED\n",
      "U.S. Department of State\n",
      "Case No. F-2015-04841\n",
      "Doc No. C05739545\n",
      "Date: 05/13/2015\n",
      "STATE DEPT. - PRODUCED TO HOUSE SELECT BENGHAZI COMM.\n",
      "SUBJECT TO AGREEMENT ON SENSITIVE INFORMATION & REDACTIONS. NO FOIA WAIVER. STATE-5CB0045247\n",
      "\f",
      "\n",
      "nan\n"
     ]
    }
   ],
   "source": [
    "print data.RawText[0]\n",
    "print data.ExtractedBodyText[0]"
   ]
  },
  {
   "cell_type": "code",
   "execution_count": 6,
   "metadata": {
    "collapsed": false
   },
   "outputs": [
    {
     "name": "stdout",
     "output_type": "stream",
     "text": [
      "UNCLASSIFIED U.S. Department of State Case No. F-2014-20439 Doc No. C05762608 Date: 06/30/2015\n",
      "RELEASE IN FULL\n",
      "From:\n",
      "Sent:\n",
      "To:\n",
      "Subject:\n",
      "Mills, Cheryl D <MillsCD@state.gov>\n",
      "Thursday, June n, 2009 5:42 AM\n",
      "Fw: COS call 6/10/09\n",
      "Fyi\n",
      "From: Toiv, Nora F\n",
      "To: Mills, Cheryl D; Sullivan, Jacob 3\n",
      "Sent: Wed Jun 10 16:21:39 2009 •\n",
      "Subject: COS call 6/10/09\n",
      "Called out HRC as especially helpful in making calls to the Hill on passing the supplemental approps bill.\n",
      "Nora Toiv\n",
      "Office of the Secretary\n",
      "202-647-8633\n",
      "52\n",
      "UNCLASSIFIED U.S. Department of State Case No. F-2014-20439 Doc No. C05762608 Date: 06/30/2015\n",
      "\f",
      "\n",
      "Mills, Cheryl D <MillsCD@state.gov>\n",
      "Thursday, June n, 2009 5:42 AM\n",
      "Fw: COS call 6/10/09\n",
      "Fyi\n"
     ]
    }
   ],
   "source": [
    "print data.RawText[2000]\n",
    "print data.ExtractedBodyText[2000]"
   ]
  },
  {
   "cell_type": "code",
   "execution_count": 7,
   "metadata": {
    "collapsed": false
   },
   "outputs": [
    {
     "name": "stdout",
     "output_type": "stream",
     "text": [
      "UNCLASSIFIED U.S. Department of State Case No. F-2014-20439 Doc No. C05773760 Date: 08/31/2015\n",
      "RELEASE IN PART\n",
      "B5\n",
      "From:\n",
      "Sent:\n",
      "To:\n",
      "Subject:\n",
      "Sullivan, Jacob.) <SullivanJJ@state.gov>\n",
      "Monday, December 27, 2010 7:46 AM\n",
      "Khodorkovsky verdict\n",
      "Embassy Moscow and Bill recommend that we put out the below statement in your name.\n",
      "STATEMENT BY SECRETARY CLINTON\n",
      "Statement on the Verdict in the Khodorkoysky/Lebedev Case\n",
      "UNCLASSIFIED U.S. Department of State Case No. F-2014-20439 Doc No. C05773760 Date: 08/31/2015\n",
      "\f",
      "\n",
      "Sullivan, Jacob.) <SullivanJJ@state.gov>\n",
      "Monday, December 27, 2010 7:46 AM\n",
      "Khodorkovsky verdict\n",
      "Embassy Moscow and Bill recommend that we put out the below statement in your name.\n",
      "STATEMENT BY SECRETARY CLINTON\n",
      "Statement on the Verdict in the Khodorkoysky/Lebedev Case\n"
     ]
    }
   ],
   "source": [
    "print data.RawText[7000]\n",
    "print data.ExtractedBodyText[7000]"
   ]
  },
  {
   "cell_type": "markdown",
   "metadata": {},
   "source": [
    "Судя по всему, не очень. Вручную удалим ненужные строки, содержащие некоторую ненужную или уже выделенную информацию о письме."
   ]
  },
  {
   "cell_type": "code",
   "execution_count": 8,
   "metadata": {
    "collapsed": true
   },
   "outputs": [],
   "source": [
    "X = X_train.RawText\n",
    "bad_start = ['UNCLASSIFIED', 'RELEASE', 'From:', 'Sent:', 'To:', 'Subject:', 'Case', 'Doc', 'Date:', 'Fw:', \n",
    "            'Monday,', 'Tuesday,', 'Wednsday,', 'Thursday,', 'Friday,', 'Saturday,', 'Sunday,']\n",
    "\n",
    "new_X = []\n",
    "for i, text in enumerate(X):\n",
    "    new_text = []\n",
    "    for line in text.split('\\n'):\n",
    "        first_word = line.split(' ')[0]\n",
    "        if not (first_word in bad_start):\n",
    "            new_text.append(line)\n",
    "    new_X.append('\\n'.join(new_text))"
   ]
  },
  {
   "cell_type": "code",
   "execution_count": 9,
   "metadata": {
    "collapsed": false
   },
   "outputs": [
    {
     "name": "stdout",
     "output_type": "stream",
     "text": [
      "UNCLASSIFIED\n",
      "U.S. Department of State\n",
      "Case No. F-2015-04841\n",
      "Doc No. C05739545\n",
      "Date: 05/13/2015\n",
      "STATE DEPT. - PRODUCED TO HOUSE SELECT BENGHAZI COMM.\n",
      "SUBJECT TO AGREEMENT ON SENSITIVE INFORMATION & REDACTIONS. NO FOIA WAIVER.\n",
      "RELEASE IN FULL\n",
      "From: Sullivan, Jacob J <Sullivan11@state.gov>\n",
      "Sent: Wednesday, September 12, 2012 10:16 AM\n",
      "To:\n",
      "Subject: FW: Wow\n",
      "From: Brose, Christian (Armed Services) (mailto:Christian_Brose@armed-servic,essenate.govi\n",
      "Sent: Wednesday, September 12, 2012 10:09 AM\n",
      "To: Sullivan, Jacob J\n",
      "Subject: Wow\n",
      "What a wonderful, strong and moving statement by your boss. please tell her how much Sen. McCain appreciated it. Me\n",
      "too\n",
      "UNCLASSIFIED\n",
      "U.S. Department of State\n",
      "Case No. F-2015-04841\n",
      "Doc No. C05739545\n",
      "Date: 05/13/2015\n",
      "STATE DEPT. - PRODUCED TO HOUSE SELECT BENGHAZI COMM.\n",
      "SUBJECT TO AGREEMENT ON SENSITIVE INFORMATION & REDACTIONS. NO FOIA WAIVER. STATE-5CB0045247\n",
      "\f",
      "\n",
      "U.S. Department of State\n",
      "STATE DEPT. - PRODUCED TO HOUSE SELECT BENGHAZI COMM.\n",
      "SUBJECT TO AGREEMENT ON SENSITIVE INFORMATION & REDACTIONS. NO FOIA WAIVER.\n",
      "What a wonderful, strong and moving statement by your boss. please tell her how much Sen. McCain appreciated it. Me\n",
      "too\n",
      "U.S. Department of State\n",
      "STATE DEPT. - PRODUCED TO HOUSE SELECT BENGHAZI COMM.\n",
      "SUBJECT TO AGREEMENT ON SENSITIVE INFORMATION & REDACTIONS. NO FOIA WAIVER. STATE-5CB0045247\n",
      "\f",
      "\n"
     ]
    }
   ],
   "source": [
    "print data.RawText[0]\n",
    "print new_X[0]"
   ]
  },
  {
   "cell_type": "code",
   "execution_count": 10,
   "metadata": {
    "collapsed": false
   },
   "outputs": [
    {
     "name": "stdout",
     "output_type": "stream",
     "text": [
      "UNCLASSIFIED U.S. Department of State Case No. F-2014-20439 Doc No. C05762608 Date: 06/30/2015\n",
      "RELEASE IN FULL\n",
      "From:\n",
      "Sent:\n",
      "To:\n",
      "Subject:\n",
      "Mills, Cheryl D <MillsCD@state.gov>\n",
      "Thursday, June n, 2009 5:42 AM\n",
      "Fw: COS call 6/10/09\n",
      "Fyi\n",
      "From: Toiv, Nora F\n",
      "To: Mills, Cheryl D; Sullivan, Jacob 3\n",
      "Sent: Wed Jun 10 16:21:39 2009 •\n",
      "Subject: COS call 6/10/09\n",
      "Called out HRC as especially helpful in making calls to the Hill on passing the supplemental approps bill.\n",
      "Nora Toiv\n",
      "Office of the Secretary\n",
      "202-647-8633\n",
      "52\n",
      "UNCLASSIFIED U.S. Department of State Case No. F-2014-20439 Doc No. C05762608 Date: 06/30/2015\n",
      "\f",
      "\n",
      "Mills, Cheryl D <MillsCD@state.gov>\n",
      "Fyi\n",
      "Called out HRC as especially helpful in making calls to the Hill on passing the supplemental approps bill.\n",
      "Nora Toiv\n",
      "Office of the Secretary\n",
      "202-647-8633\n",
      "52\n",
      "\f",
      "\n"
     ]
    }
   ],
   "source": [
    "print data.RawText[2000]\n",
    "print new_X[2000]"
   ]
  },
  {
   "cell_type": "markdown",
   "metadata": {},
   "source": [
    "Кажется, стало получше, не идеально, но вручную дальше сложно вырезать. Также есть ненужные небуквенные слова (телефоны, например), они отсеются после при векторизации, либо уберем потом вручную. В тексте не присутствуют никакие ненужные переносы. \n",
    "\n",
    "Oставим только буквенные слова и приведем все к lowercase. Удалим слова длины менее 3. \n",
    "\n",
    "Применим стемминг и сохраним результат отдельно."
   ]
  },
  {
   "cell_type": "code",
   "execution_count": 11,
   "metadata": {
    "collapsed": false
   },
   "outputs": [],
   "source": [
    "raw_X = new_X\n",
    "X = []\n",
    "stem_X = []\n",
    "\n",
    "for text in raw_X:\n",
    "    a = re.findall(r'[A-z]{3,}', text)\n",
    "    X.append(list(map(lambda x: x.lower(), a)))\n",
    "    stem_X.append(list(map(lambda x: stem(x), X[-1])))"
   ]
  },
  {
   "cell_type": "code",
   "execution_count": 12,
   "metadata": {
    "collapsed": false
   },
   "outputs": [
    {
     "name": "stdout",
     "output_type": "stream",
     "text": [
      "['department', 'state', 'state', 'dept', 'produced', 'house', 'select', 'benghazi', 'comm', 'subject', 'agreement', 'sensitive', 'information', 'redactions', 'foia', 'waiver', 'what', 'wonderful', 'strong', 'and', 'moving', 'statement', 'your', 'boss', 'please', 'tell', 'her', 'how', 'much', 'sen', 'mccain', 'appreciated', 'too', 'department', 'state', 'state', 'dept', 'produced', 'house', 'select', 'benghazi', 'comm', 'subject', 'agreement', 'sensitive', 'information', 'redactions', 'foia', 'waiver', 'state']\n",
      "['depart', 'state', 'state', 'dept', 'produc', 'hous', 'select', 'benghazi', 'comm', 'subject', 'agreement', 'sensit', 'inform', 'redact', 'foia', 'waiver', 'what', 'wonder', 'strong', 'and', 'move', 'statement', 'your', 'boss', 'pleas', 'tell', 'her', 'how', 'much', 'sen', 'mccain', 'appreci', 'too', 'depart', 'state', 'state', 'dept', 'produc', 'hous', 'select', 'benghazi', 'comm', 'subject', 'agreement', 'sensit', 'inform', 'redact', 'foia', 'waiver', 'state']\n"
     ]
    }
   ],
   "source": [
    "print X[0]\n",
    "print stem_X[0]"
   ]
  },
  {
   "cell_type": "markdown",
   "metadata": {},
   "source": [
    "Считаем наиболее часто встречающиеся биграммы"
   ]
  },
  {
   "cell_type": "code",
   "execution_count": 13,
   "metadata": {
    "collapsed": false
   },
   "outputs": [
    {
     "name": "stdout",
     "output_type": "stream",
     "text": [
      "10 best bigramms for texts [('original', 'message'), ('department', 'state'), ('unclassified', 'department'), ('and', 'the'), ('doc', 'date'), ('case', 'doc'), ('state', 'case'), ('for', 'the'), ('that', 'the'), ('with', 'the')]\n",
      "10 best bigramms for stemmed texts [('origin', 'messag'), ('depart', 'state'), ('unclassifi', 'depart'), ('and', 'the'), ('doc', 'date'), ('case', 'doc'), ('state', 'case'), ('for', 'the'), ('that', 'the'), ('with', 'the')]\n"
     ]
    }
   ],
   "source": [
    "import nltk\n",
    "from nltk.collocations import *\n",
    "\n",
    "bigram_measures = nltk.collocations.BigramAssocMeasures()\n",
    "finder = BigramCollocationFinder.from_words(reduce(lambda x, y: x + y, X))\n",
    "stem_finder = BigramCollocationFinder.from_words(reduce(lambda x, y: x + y, stem_X))\n",
    "print '10 best bigramms for texts', finder.nbest(bigram_measures.raw_freq, 10) \n",
    "print '10 best bigramms for stemmed texts', stem_finder.nbest(bigram_measures.raw_freq, 10) "
   ]
  },
  {
   "cell_type": "markdown",
   "metadata": {},
   "source": [
    "Теперь по pmi"
   ]
  },
  {
   "cell_type": "code",
   "execution_count": 14,
   "metadata": {
    "collapsed": false
   },
   "outputs": [
    {
     "name": "stdout",
     "output_type": "stream",
     "text": [
      "10 best bigramms for texts [('[antigone', 'collective]'), ('[drug', 'traffickers]'), ('[easy', 'women]'), ('[flotilla', 'passengers]'), ('[gonzalez', 'murder]'), ('[inter', 'contktenta[l'), ('[john', 'carland]'), ('[justice', 'department]'), ('[last', 'week]'), ('[mai', 'corect')]\n",
      "10 best bigramms for stemmed texts [('[antigon', 'collective]'), ('[drug', 'traffickers]'), ('[easi', 'women]'), ('[flotilla', 'passengers]'), ('[gonzalez', 'murder]'), ('[inter', 'contktenta[l'), ('[john', 'carland]'), ('[justic', 'department]'), ('[last', 'week]'), ('[mai', 'corect')]\n"
     ]
    }
   ],
   "source": [
    "print '10 best bigramms for texts', finder.nbest(bigram_measures.pmi, 10) \n",
    "print '10 best bigramms for stemmed texts', stem_finder.nbest(bigram_measures.pmi, 10) "
   ]
  },
  {
   "cell_type": "markdown",
   "metadata": {},
   "source": [
    "Видим, что по pmi находятся пары содержательных слов, в отличие от обычных вероятностей. \n",
    "\n",
    "Далее будем работать со \"стеммизированными\" данными."
   ]
  },
  {
   "cell_type": "code",
   "execution_count": 32,
   "metadata": {
    "collapsed": true
   },
   "outputs": [],
   "source": [
    "X_train = list(map(lambda s: ' '.join(s), stem_X))"
   ]
  },
  {
   "cell_type": "markdown",
   "metadata": {},
   "source": [
    "Векторизуем наши тексты, снизим размерность и применим кластеризацию с n_clusters = 30. "
   ]
  },
  {
   "cell_type": "code",
   "execution_count": 33,
   "metadata": {
    "collapsed": false
   },
   "outputs": [
    {
     "name": "stdout",
     "output_type": "stream",
     "text": [
      "tfidf\n",
      "svd\n"
     ]
    }
   ],
   "source": [
    "vectorizer = TfidfVectorizer(max_df=1000, min_df=10)\n",
    "matrix = vectorizer.fit_transform(X_train)\n",
    "print 'tfidf'\n",
    "svd = TruncatedSVD(n_components=200, random_state=123)\n",
    "features = svd.fit_transform(matrix)\n",
    "print 'svd'\n",
    "\n",
    "kmeans = KMeans(n_clusters=30, random_state=1)\n",
    "labels = kmeans.fit_predict(features)"
   ]
  },
  {
   "cell_type": "code",
   "execution_count": 34,
   "metadata": {
    "collapsed": false
   },
   "outputs": [
    {
     "name": "stdout",
     "output_type": "stream",
     "text": [
      "[[  3.42182060e-01   7.63395504e-01   8.20838349e-02 ...,  -1.97692878e-02\n",
      "   -1.28428004e-02  -2.83902700e-03]\n",
      " [  3.45953918e-01   3.73795796e-01  -6.67410630e-02 ...,   3.51952115e-02\n",
      "    3.82374799e-03   1.57180854e-02]\n",
      " [  3.31106771e-01   6.89930591e-01   1.54962678e-01 ...,  -2.36266740e-02\n",
      "   -2.45425202e-03   9.91904629e-03]\n",
      " ..., \n",
      " [  3.58950397e-01   4.00913984e-01  -5.50304859e-02 ...,   3.00606049e-02\n",
      "    4.34159085e-03   1.26583588e-02]\n",
      " [  4.17375814e-01   4.30965260e-01  -6.55119646e-02 ...,   1.93082280e-04\n",
      "    4.28286867e-02  -1.56693925e-02]\n",
      " [  4.13191688e-01   6.22976549e-01  -3.99233835e-02 ...,  -8.96533954e-03\n",
      "   -2.91271105e-02  -8.93404346e-03]]\n"
     ]
    }
   ],
   "source": [
    "print features[:10]"
   ]
  },
  {
   "cell_type": "markdown",
   "metadata": {},
   "source": [
    "Важные слова выберем с помощью tfidf. Объединим все тексты с одной меткой в один, для получившегося набора из 30 документов применим tfidf с выделением только нечасто встречающихся слов."
   ]
  },
  {
   "cell_type": "code",
   "execution_count": 95,
   "metadata": {
    "collapsed": false
   },
   "outputs": [],
   "source": [
    "def show_clusters(n_clusters, labels):\n",
    "    themes = []\n",
    "\n",
    "    for label in range(n_clusters):\n",
    "        themes.append(' '.join(list(map(lambda s: ' '.join(s), np.array(stem_X)[np.array(labels) == label]))))\n",
    "\n",
    "    vectorizer = TfidfVectorizer(max_df=0.2)\n",
    "    res = np.array(vectorizer.fit_transform(themes).toarray())\n",
    "\n",
    "    for label in range(n_clusters):\n",
    "        indices = np.array(list(reversed(np.argsort(res[label]).tolist())))\n",
    "        print label, np.array(vectorizer.get_feature_names())[indices[:10]], '\\n'"
   ]
  },
  {
   "cell_type": "code",
   "execution_count": 96,
   "metadata": {
    "collapsed": false
   },
   "outputs": [
    {
     "name": "stdout",
     "output_type": "stream",
     "text": [
      "0 [u'vladivostock' u'harlan' u'siddharth' u'dalton' u'mohanda' u'reynold'\n",
      " u'slim' u'dellum' u'farnsworth' u'greenland'] \n",
      "\n",
      "1 [u'cfr' u'rosal' u'lamplight' u'madeeha' u'manuel' u'jock' u'ashrafm'\n",
      " u'baer' u'input' u'quak'] \n",
      "\n",
      "2 [u'dup' u'unionist' u'sinn' u'fein' u'uup' u'devolv' u'allist' u'stormont'\n",
      " u'ulster' u'hillsborough'] \n",
      "\n",
      "3 [u'unscr' u'zzq' u'geolog' u'gentlest' u'gentlewoman' u'genton' u'gentontr'\n",
      " u'genyen' u'geo' u'geoff'] \n",
      "\n",
      "4 [u'assk' u'johna' u'mcmullen' u'pirro' u'velia' u'pdt' u'bog' u'moriarti'\n",
      " u'trr' u'ohtagaki'] \n",
      "\n",
      "5 [u'benghazi' u'foia' u'redact' u'waiver' u'scb' u'pouch' u'holder'\n",
      " u'somali' u'gloria' u'tripoli'] \n",
      "\n",
      "6 [u'fari' u'firri' u'moroccan' u'kouchen' u'standoff' u'iand' u'hongju'\n",
      " u'passport' u'belliard' u'edwidg'] \n",
      "\n",
      "7 [u'pdpa' u'patriarch' u'gore' u'diseas' u'pao' u'ecumen' u'chronic'\n",
      " u'hispan' u'bangladesh' u'innov'] \n",
      "\n",
      "8 [u'hasina' u'managua' u'grameen' u'berlusconi' u'rio' u'yunus' u'bca'\n",
      " u'tehran' u'kubisk' u'orna'] \n",
      "\n",
      "9 [u'pverve' u'gosl' u'surgic' u'wynn' u'vikram' u'ensor' u'samuelson'\n",
      " u'karlygash' u'buteni' u'faillac'] \n",
      "\n",
      "10 [u'koch' u'boehner' u'mcchrystal' u'chilcot' u'beck' u'emanuel' u'gop'\n",
      " u'meyer' u'lobbyist' u'palin'] \n",
      "\n",
      "11 [u'haitian' u'beller' u'caribbean' u'goh' u'dominican' u'restavek'\n",
      " u'unicef' u'cuban' u'que' u'quak'] \n",
      "\n",
      "12 [u'mer' u'flore' u'proxim' u'mariann' u'chiefli' u'garbl' u'ste' u'courier'\n",
      " u'ramat' u'shlomo'] \n",
      "\n",
      "13 [u'windrush' u'sender' u'obl' u'virus' u'broadway' u'clntinet'\n",
      " u'messagelab' u'disclaim' u'wale' u'fe'] \n",
      "\n",
      "14 [u'kaidanow' u'tina' u'scanlon' u'davu' u'slovenia' u'ecial' u'submiss'\n",
      " u'swiss' u'kitchen' u'ornament'] \n",
      "\n",
      "15 [u'mailcontrol' u'cheri' u'altohiway' u'sheikha' u'htc' u'moser' u'mosah'\n",
      " u'fuzetm' u'hilari' u'spill'] \n",
      "\n",
      "16 [u'isullivanjj' u'visual' u'bommer' u'pauli' u'ashley' u'handout' u'fyl'\n",
      " u'taskforc' u'fold' u'daniel_b'] \n",
      "\n",
      "17 [u'jew' u'zionism' u'settler' u'palestin' u'orthodox' u'hage' u'zionist'\n",
      " u'occup' u'flotilla' u'wataniya'] \n",
      "\n",
      "18 [u'spray' u'outer' u'laguardia' u'monro' u'minutes' u'oval' u'airway'\n",
      " u'afb' u'waldorf' u'astoria'] \n",
      "\n",
      "19 [u'mcchrystal' u'ricciardon' u'carney' u'lineup' u'haqqani' u'stanley'\n",
      " u'hamid' u'texa' u'kandahar' u'philippin'] \n",
      "\n",
      "20 [u'clegg' u'lib' u'murdoch' u'dem' u'lds' u'outright' u'dup' u'timesonlin'\n",
      " u'icm' u'lisbon'] \n",
      "\n",
      "21 [u'amazon' u'palau' u'heyman' u'utf' u'node' u'llp' u'winthrop'\n",
      " u'pillsburi' u'ecx' u'pittman'] \n",
      "\n",
      "22 [u'mashaban' u'wexler' u'indyk' u'acct' u'einhorn' u'lndyk' u'holm' u'gina'\n",
      " u'lamar' u'cal'] \n",
      "\n",
      "23 [u'benghazi' u'foia' u'redact' u'waiver' u'magariaf' u'scb' u'keib'\n",
      " u'qaddafi' u'militia' u'jalil'] \n",
      "\n",
      "24 [u'clotur' u'filibust' u'corker' u'lautenberg' u'udal' u'mcconnel'\n",
      " u'lemieux' u'shelbi' u'vol' u'gregg'] \n",
      "\n",
      "25 [u'iftar' u'bajnai' u'isabell' u'hungarian' u'wiesel' u'rapoport' u'itfar'\n",
      " u'rothschild' u'kasit' u'podesta'] \n",
      "\n",
      "26 [u'evit' u'jsp' u'viewinvit' u'app' u'venali' u'elain' u'inviteld'\n",
      " u'lnijcdswazcpnqtwuehf' u'ramesh' u'partysuppli'] \n",
      "\n",
      "27 [u'gail' u'tys' u'tutu' u'durmer' u'archbishop' u'eca' u'schuster' u'vicki'\n",
      " u'lloyd' u'elain'] \n",
      "\n",
      "28 [u'flore' u'fminist' u'oprah' u'makeup' u'ling' u'barn' u'interrupt'\n",
      " u'hook' u'okada' u'condi'] \n",
      "\n",
      "29 [u'usdta' u'hmm' u'ranker' u'secpr' u'leguen' u'cantellano' u'bldng'\n",
      " u'merncon' u'ukranian' u'gryshchenko'] \n",
      "\n"
     ]
    }
   ],
   "source": [
    "show_clusters(30, labels)"
   ]
  },
  {
   "cell_type": "markdown",
   "metadata": {},
   "source": [
    "Подберем число кластеров с помощью ситуэтного скора."
   ]
  },
  {
   "cell_type": "code",
   "execution_count": 57,
   "metadata": {
    "collapsed": false
   },
   "outputs": [
    {
     "name": "stdout",
     "output_type": "stream",
     "text": [
      "5\n",
      "10\n",
      "15\n",
      "20\n",
      "25\n",
      "30\n",
      "35\n",
      "40\n",
      "45\n"
     ]
    }
   ],
   "source": [
    "vectorizer = TfidfVectorizer(max_df=1000, min_df=10)\n",
    "matrix = vectorizer.fit_transform(X_train)\n",
    "scores = []\n",
    "\n",
    "for n_clusters in [k * 5 for k in range(1, 10)]:\n",
    "    kmeans = KMeans(n_clusters=n_clusters, random_state=1)\n",
    "    scores.append(silhouette_score(matrix, kmeans.fit_predict(matrix)))\n",
    "    print n_clusters"
   ]
  },
  {
   "cell_type": "code",
   "execution_count": 58,
   "metadata": {
    "collapsed": false
   },
   "outputs": [
    {
     "data": {
      "text/plain": [
       "[0.018560201493359078,\n",
       " 0.023701118401724213,\n",
       " 0.026134969331769387,\n",
       " -0.0054641984678143662,\n",
       " 0.028807740628550838,\n",
       " -0.0059124561662981402,\n",
       " 0.013088541156589313,\n",
       " -0.00082248425400642392,\n",
       " 0.0091996293575547609]"
      ]
     },
     "execution_count": 58,
     "metadata": {},
     "output_type": "execute_result"
    }
   ],
   "source": [
    "scores"
   ]
  },
  {
   "cell_type": "markdown",
   "metadata": {},
   "source": [
    "Будем делить на 25 кластеров. Используем более аккуратный метод снижения размерности - добавим tSNE и попробуем применить Agglomerative Clustering. Можно использовать некоторые другие признаки - id отправителя и получателя, выделенную тему письма и тд, но сейчас делать этого не будем, ибо фокусируемся на кластеризации текстов."
   ]
  },
  {
   "cell_type": "code",
   "execution_count": 65,
   "metadata": {
    "collapsed": false
   },
   "outputs": [
    {
     "name": "stdout",
     "output_type": "stream",
     "text": [
      "tfidf\n",
      "svd\n",
      "tsne\n"
     ]
    }
   ],
   "source": [
    "vectorizer = TfidfVectorizer(max_df=1000, min_df=10)\n",
    "matrix = vectorizer.fit_transform(X_train)\n",
    "print 'tfidf'\n",
    "svd = TruncatedSVD(n_components=20, random_state=123)\n",
    "features_svd = svd.fit_transform(matrix)\n",
    "print 'svd'\n",
    "tsne = TSNE(n_components=5)\n",
    "features = tsne.fit_transform(features_svd)\n",
    "print 'tsne'\n",
    "\n",
    "aclust = AgglomerativeClustering(n_clusters=25, affinity='cosine', linkage='complete')\n",
    "new_labels = kmeans.fit_predict(features)"
   ]
  },
  {
   "cell_type": "code",
   "execution_count": 97,
   "metadata": {
    "collapsed": false
   },
   "outputs": [
    {
     "name": "stdout",
     "output_type": "stream",
     "text": [
      "0 [u'brandenburg' u'oprah' u'moy' u'legrand' u'beller' u'restavek' u'governo'\n",
      " u'ushahidi' u'estado' u'jillian'] \n",
      "\n",
      "1 [u'tapper' u'morsi' u'transpir' u'granger' u'expeditionari' u'giuliani'\n",
      " u'outmatch' u'politic' u'iftar' u'tunisia'] \n",
      "\n",
      "2 [u'samoa' u'faleomavaega' u'bahtiyar' u'maquiladora' u'samoan' u'airlift'\n",
      " u'wike' u'arkin' u'rascon' u'paso'] \n",
      "\n",
      "3 [u'amazon' u'utf' u'node' u'mailcontrol' u'ecx' u'phrma' u'altohiway'\n",
      " u'kindl' u'tauzin' u'sheikha'] \n",
      "\n",
      "4 [u'sejm' u'pani' u'poset' u'preze' u'andrzej' u'stanu' u'vmi' u'aboud'\n",
      " u'hazza' u'dowodca'] \n",
      "\n",
      "5 [u'timesonlin' u'murdoch' u'mandelson' u'lellouch' u'populus' u'tol'\n",
      " u'apologis' u'sinn' u'castrat' u'manifesto'] \n",
      "\n",
      "6 [u'surgic' u'gillibrand' u'aba' u'pdt' u'pih' u'fester' u'aloha' u'surgeon'\n",
      " u'amano' u'bog'] \n",
      "\n",
      "7 [u'patriarch' u'ecumen' u'orthodox' u'ergenekon' u'istanbul' u'archon'\n",
      " u'jamal' u'bartholomew' u'constantinopl' u'asp'] \n",
      "\n",
      "8 [u'fistula' u'goma' u'lyn' u'kivu' u'congoles' u'lamego' u'congo' u'lusi'\n",
      " u'tost' u'maniema'] \n",
      "\n",
      "9 [u'pelleti' u'cpao' u'dyncorp' u'mumbai' u'moriarti' u'gadkowski' u'bhutto'\n",
      " u'gul' u'spray' u'sheraton'] \n",
      "\n",
      "10 [u'keib' u'magariaf' u'jalil' u'ntc' u'belhaj' u'misrata' u'haftar'\n",
      " u'zidan' u'tnc' u'gnc'] \n",
      "\n",
      "11 [u'vol' u'tot' u'palin' u'hrd' u'democracyinact' u'capweb' u'hvn' u'worn'\n",
      " u'quinnipiac' u'smone'] \n",
      "\n",
      "12 [u'maariv' u'pml' u'rivkin' u'ppp' u'cha' u'eurocontrol' u'didiremez'\n",
      " u'coteret' u'barnett' u'fari'] \n",
      "\n",
      "13 [u'evit' u'taab' u'geller' u'sis' u'herebi' u'shourd' u'tomdispatch'\n",
      " u'pjak' u'chernick' u'kurdistan'] \n",
      "\n",
      "14 [u'clntinet' u'fe' u'diagnost' u'amazon' u'vanc' u'thread' u'mswashdcib'\n",
      " u'washdc' u'smtp' u'header'] \n",
      "\n",
      "15 [u'agna' u'pogo' u'supervisor' u'wackenhut' u'gurkha' u'nsoc' u'whsr'\n",
      " u'armorgroup' u'pmat' u'arakib'] \n",
      "\n",
      "16 [u'pdpa' u'paco' u'intergovernment' u'mdm' u'srgia' u'subparagraph' u'pdod'\n",
      " u'ment' u'fuck' u'subsect'] \n",
      "\n",
      "17 [u'mdf' u'mprr' u'psa' u'que' u'finca' u'ingo' u'aceh' u'latrin' u'uni'\n",
      " u'phrma'] \n",
      "\n",
      "18 [u'publicpolicypol' u'dup' u'pou' u'unionist' u'raleigh' u'blvd'\n",
      " u'gouvenman' u'highwood' u'sinn' u'dewin'] \n",
      "\n",
      "19 [u'cambodia' u'lao' u'spiegel' u'splm' u'fminist' u'bajnai' u'hungarian'\n",
      " u'brunei' u'hanoi' u'referenda'] \n",
      "\n",
      "20 [u'koch' u'beck' u'skousen' u'chilcot' u'carleto' u'meyer' u'libertarian'\n",
      " u'stiglitz' u'osborn' u'mandelson'] \n",
      "\n",
      "21 [u'laguardia' u'spray' u'airway' u'hyatt' u'baki' u'loach' u'turki'\n",
      " u'monro' u'yettaw' u'bukova'] \n",
      "\n",
      "22 [u'kaidanow' u'udal' u'davu' u'filibust' u'mccaskil' u'agna' u'erlind'\n",
      " u'warner' u'bun' u'gregg'] \n",
      "\n",
      "23 [u'llosa' u'varga' u'griot' u'strikethrough' u'eurocontrol' u'st' u'mdgs'\n",
      " u'newseum' u'helsinki' u'sosiltd'] \n",
      "\n",
      "24 [u'hispan' u'heyman' u'nhla' u'gaf' u'mpaa' u'mafia' u'issa' u'arctic'\n",
      " u'iiec' u'momoima'] \n",
      "\n"
     ]
    }
   ],
   "source": [
    "show_clusters(25, new_labels)"
   ]
  },
  {
   "cell_type": "code",
   "execution_count": 98,
   "metadata": {
    "collapsed": false
   },
   "outputs": [
    {
     "name": "stdout",
     "output_type": "stream",
     "text": [
      "0 [u'vol' u'hrd' u'hvn' u'wht' u'tot' u'mod' u'postconflict' u'blk' u'hasina'\n",
      " u'wldn'] \n",
      "\n",
      "1 [u'clntinet' u'evit' u'fe' u'herebi' u'diagnost' u'vanc' u'mswashdcib'\n",
      " u'sis' u'geller' u'bmena'] \n",
      "\n",
      "2 [u'windrush' u'obl' u'llosa' u'broadway' u'varga' u'others' u'griot'\n",
      " u'strikethrough' u'bi' u'messagelab'] \n",
      "\n",
      "3 [u'udal' u'filibust' u'pou' u'mccaskil' u'warner' u'bun' u'newyorkercom'\n",
      " u'kaidanow' u'freshman' u'gouvenman'] \n",
      "\n",
      "4 [u'managua' u'bca' u'kubisk' u'orna' u'loh' u'arola' u'posivak' u'drucker'\n",
      " u'milton' u'handov'] \n",
      "\n",
      "5 [u'carleto' u'loach' u'brandenburg' u'oak' u'moy' u'forman' u'edinburgh'\n",
      " u'domenici' u'restavek' u'hubbard'] \n",
      "\n",
      "6 [u'morsi' u'transpir' u'tapper' u'fisa' u'indyk' u'iftar' u'granger'\n",
      " u'expeditionari' u'rushdi' u'gadhafi'] \n",
      "\n",
      "7 [u'hasina' u'fari' u'firri' u'maquiladora' u'kouchen' u'pml' u'bajnai'\n",
      " u'iand' u'rascon' u'standoff'] \n",
      "\n",
      "8 [u'lewinski' u'democracyinact' u'capweb' u'reno' u'vol' u'moynihan'\n",
      " u'codex' u'tobacco' u'jsp' u'dis'] \n",
      "\n",
      "9 [u'stiglitz' u'skousen' u'osborn' u'formaldehyd' u'libertarian' u'birch'\n",
      " u'cato' u'mercatus' u'tec' u'buckley'] \n",
      "\n",
      "10 [u'patriarch' u'ecumen' u'hispan' u'heyman' u'orthodox' u'nhla'\n",
      " u'ergenekon' u'archon' u'mcewen' u'samoa'] \n",
      "\n",
      "11 [u'agna' u'kaidanow' u'pogo' u'davu' u'supervisor' u'wackenhut' u'gurkha'\n",
      " u'erlind' u'armorgroup' u'brock'] \n",
      "\n",
      "12 [u'zionism' u'hage' u'orthodox' u'zionist' u'wataniya' u'luntz' u'chomski'\n",
      " u'knesset' u'jock' u'geller'] \n",
      "\n",
      "13 [u'pelleti' u'windrush' u'petroleo' u'cpao' u'coloradoindepend' u'chuckl'\n",
      " u'dyncorp' u'turki' u'jabar' u'evit'] \n",
      "\n",
      "14 [u'timesonlin' u'chathamhous' u'lellouch' u'khorasan' u'populus' u'karrubi'\n",
      " u'tol' u'apologis' u'castrat' u'epp'] \n",
      "\n",
      "15 [u'loach' u'tnc' u'haig' u'yettaw' u'edinburgh' u'lexmarkaioscan'\n",
      " u'tarhouni' u'hayward' u'alto' u'bacil'] \n",
      "\n",
      "16 [u'utf' u'node' u'ecx' u'kindl' u'reidel' u'popov' u'pixel' u'accessori'\n",
      " u'ramesh' u'venali'] \n",
      "\n",
      "17 [u'sinn' u'allist' u'stormont' u'ulster' u'tuv' u'cowen' u'castl'\n",
      " u'otunbayeva' u'amp' u'jigsaw'] \n",
      "\n",
      "18 [u'cambodia' u'postconflict' u'lao' u'prism' u'dobbin' u'bellegard'\n",
      " u'brock' u'mod' u'shalala' u'fco'] \n",
      "\n",
      "19 [u'pdpa' u'intergovernment' u'paco' u'srgia' u'subparagraph' u'pdod'\n",
      " u'myer' u'mdm' u'subsect' u'blvd'] \n",
      "\n",
      "20 [u'laguardia' u'taab' u'jamal' u'pinera' u'hyatt' u'deuel' u'pjak'\n",
      " u'airway' u'baki' u'afb'] \n",
      "\n",
      "21 [u'keib' u'ntc' u'jalil' u'belhaj' u'misrata' u'tnc' u'haftar' u'zidan'\n",
      " u'lmb' u'abushagur'] \n",
      "\n",
      "22 [u'pillsburi' u'winthrop' u'pittman' u'crowel' u'asha' u'sofa' u'sejm'\n",
      " u'mauricio' u'boyner' u'scv'] \n",
      "\n",
      "23 [u'mdf' u'phrma' u'icrw' u'tauzin' u'mprr' u'skousen' u'fisa' u'finca'\n",
      " u'pharmaceut' u'ingo'] \n",
      "\n",
      "24 [u'wynn' u'rzw' u'khattala' u'kentlaw' u'lmvkds' u'lamego' u'bgf'\n",
      " u'kzxboci' u'spa' u'tyron'] \n",
      "\n"
     ]
    }
   ],
   "source": [
    "kmeans = KMeans(n_clusters=25, random_state=1)\n",
    "new_klabels = kmeans.fit_predict(features)\n",
    "show_clusters(25, new_klabels)"
   ]
  },
  {
   "cell_type": "markdown",
   "metadata": {},
   "source": [
    "Асессорам можно предоставить эти данные, показать несколько соответствующим кластерам писем (10 случайных, например), и попросить определить, действительно ли они принадлежат одной теме. Если да, то попросить назвать эту тему, а также для каждого слова из 10 выделенных сказать, подходит ли оно к этой теме. Далее, можно из полученных 11 ответов (0 и 1) посчитать что-нибудь. Например, скор кластеризации можно положить равным <сумма по всем кластерам>0.5 * I['тексты принадлежат одной тематике'] + 0.05 * (<сумма по всем наиболее важным терминам>I['термин подходит к этой теме']). В данном случае большая проблема состоит в интерпретации тем и даже переводе слов - для этого нужно разбираться в политике и отлично владеть достаточно специфичным английским языком (с кучей имен собственных)"
   ]
  },
  {
   "cell_type": "code",
   "execution_count": 93,
   "metadata": {
    "collapsed": true
   },
   "outputs": [],
   "source": [
    "def write_test(filename, label):\n",
    "    with open(filename, 'w') as f:\n",
    "        themes = []\n",
    "\n",
    "        for label in range(25):\n",
    "            themes.append(' '.join(list(map(lambda s: ' '.join(s), np.array(stem_X)[np.array(labels) == label]))))\n",
    "\n",
    "        vectorizer = TfidfVectorizer(max_df=5)\n",
    "        res = np.array(vectorizer.fit_transform(themes).toarray())\n",
    "        for label in range(25):\n",
    "            f.write('\\n-----\\nLABEL ' + str(label) + '\\n')\n",
    "            for text in np.array(data.RawText)[np.array(labels) == label][:10]:\n",
    "                f.write(text)\n",
    "                f.write('\\n--\\n')\n",
    "                \n",
    "            f.write('-----\\nWORDS\\n-----')\n",
    "            indices = np.array(list(reversed(np.argsort(res[label]).tolist())))\n",
    "            for i in range(10):\n",
    "                f.write((vectorizer.get_feature_names())[indices[i]])\n",
    "                f.write('\\t')"
   ]
  },
  {
   "cell_type": "code",
   "execution_count": 99,
   "metadata": {
    "collapsed": false
   },
   "outputs": [],
   "source": [
    "write_test('test1.txt', new_labels)\n",
    "write_test('test2.txt', new_klabels)"
   ]
  },
  {
   "cell_type": "code",
   "execution_count": null,
   "metadata": {
    "collapsed": true
   },
   "outputs": [],
   "source": []
  },
  {
   "cell_type": "code",
   "execution_count": null,
   "metadata": {
    "collapsed": true
   },
   "outputs": [],
   "source": []
  }
 ],
 "metadata": {
  "anaconda-cloud": {},
  "kernelspec": {
   "display_name": "Python [conda root]",
   "language": "python",
   "name": "conda-root-py"
  },
  "language_info": {
   "codemirror_mode": {
    "name": "ipython",
    "version": 2
   },
   "file_extension": ".py",
   "mimetype": "text/x-python",
   "name": "python",
   "nbconvert_exporter": "python",
   "pygments_lexer": "ipython2",
   "version": "2.7.12"
  }
 },
 "nbformat": 4,
 "nbformat_minor": 1
}
